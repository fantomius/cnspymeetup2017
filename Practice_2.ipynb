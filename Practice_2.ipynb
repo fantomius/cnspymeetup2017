{
 "cells": [
  {
   "cell_type": "code",
   "execution_count": 1,
   "metadata": {
    "collapsed": false
   },
   "outputs": [
    {
     "name": "stderr",
     "output_type": "stream",
     "text": [
      "Using Theano backend.\n"
     ]
    }
   ],
   "source": [
    "import keras"
   ]
  },
  {
   "cell_type": "code",
   "execution_count": 3,
   "metadata": {
    "collapsed": false
   },
   "outputs": [
    {
     "name": "stdout",
     "output_type": "stream",
     "text": [
      "Train: 60000, Test: 10000\n"
     ]
    }
   ],
   "source": [
    "from keras.datasets import mnist\n",
    "\n",
    "(X_train, y_train), (X_test, y_test) = mnist.load_data()\n",
    "print(\"Train: {}, Test: {}\".format(len(X_train), len(X_test)))"
   ]
  },
  {
   "cell_type": "code",
   "execution_count": 4,
   "metadata": {
    "collapsed": false,
    "scrolled": true
   },
   "outputs": [
    {
     "data": {
      "image/png": "[encoded data removed]",
      "text/plain": [
       "<matplotlib.figure.Figure at 0x113b199e8>"
      ]
     },
     "metadata": {},
     "output_type": "display_data"
    }
   ],
   "source": [
    "%matplotlib inline\n",
    "import matplotlib.pyplot as plt\n",
    "\n",
    "fig, ax = plt.subplots(nrows=2, ncols=5, sharex=True, sharey=True,)\n",
    "ax = ax.flatten()\n",
    "for i in range(10):\n",
    "    img = X_train[y_train == i][0].reshape(28, 28)\n",
    "    ax[i].imshow(img, cmap='Greys', interpolation='nearest')\n",
    "\n",
    "plt.show()"
   ]
  },
  {
   "cell_type": "code",
   "execution_count": 5,
   "metadata": {
    "collapsed": true
   },
   "outputs": [],
   "source": [
    "from sklearn.preprocessing import OneHotEncoder\n",
    "vectorizer = OneHotEncoder( sparse = False )\n",
    "y_train = vectorizer.fit_transform(y_train.reshape(-1, 1))\n",
    "y_test = vectorizer.transform(y_test.reshape(-1, 1))"
   ]
  },
  {
   "cell_type": "code",
   "execution_count": 6,
   "metadata": {
    "collapsed": true
   },
   "outputs": [],
   "source": [
    "from keras.models import Sequential\n",
    "from keras.layers import Dense, Activation\n",
    "from keras.layers import Flatten"
   ]
  },
  {
   "cell_type": "code",
   "execution_count": 7,
   "metadata": {
    "collapsed": false
   },
   "outputs": [],
   "source": [
    "model = Sequential()\n",
    "model.add(Flatten(input_shape=(28,28)))\n",
    "model.add(Dense(50))\n",
    "model.add(Activation('sigmoid'))\n",
    "model.add(Dense(10))\n",
    "model.add(Activation('softmax'))"
   ]
  },
  {
   "cell_type": "code",
   "execution_count": 9,
   "metadata": {
    "collapsed": false
   },
   "outputs": [],
   "source": [
    "model.compile(\n",
    "    loss='categorical_crossentropy',\n",
    "    optimizer='sgd',\n",
    "    metrics=['accuracy']\n",
    ")"
   ]
  },
  {
   "cell_type": "code",
   "execution_count": 10,
   "metadata": {
    "collapsed": false
   },
   "outputs": [
    {
     "name": "stdout",
     "output_type": "stream",
     "text": [
      "Train on 60000 samples, validate on 10000 samples\n",
      "Epoch 1/100\n",
      "60000/60000 [==============================] - 0s - loss: 1.1319 - acc: 0.7198 - val_loss: 0.7316 - val_acc: 0.8451\n",
      "Epoch 2/100\n",
      "60000/60000 [==============================] - 0s - loss: 0.6162 - acc: 0.8602 - val_loss: 0.5179 - val_acc: 0.8820\n",
      "Epoch 3/100\n",
      "60000/60000 [==============================] - 0s - loss: 0.4804 - acc: 0.8851 - val_loss: 0.4300 - val_acc: 0.8987\n",
      "Epoch 4/100\n",
      "60000/60000 [==============================] - 0s - loss: 0.4183 - acc: 0.8957 - val_loss: 0.3960 - val_acc: 0.9032\n",
      "Epoch 5/100\n",
      "60000/60000 [==============================] - 0s - loss: 0.3814 - acc: 0.9012 - val_loss: 0.3568 - val_acc: 0.9078\n",
      "Epoch 6/100\n",
      "60000/60000 [==============================] - 0s - loss: 0.3528 - acc: 0.9087 - val_loss: 0.3393 - val_acc: 0.9125\n",
      "Epoch 7/100\n",
      "60000/60000 [==============================] - 0s - loss: 0.3346 - acc: 0.9123 - val_loss: 0.3204 - val_acc: 0.9162\n",
      "Epoch 8/100\n",
      "60000/60000 [==============================] - 0s - loss: 0.3157 - acc: 0.9164 - val_loss: 0.3123 - val_acc: 0.9146\n",
      "Epoch 9/100\n",
      "60000/60000 [==============================] - 0s - loss: 0.3043 - acc: 0.9185 - val_loss: 0.3056 - val_acc: 0.9172\n",
      "Epoch 10/100\n",
      "60000/60000 [==============================] - 0s - loss: 0.2956 - acc: 0.9204 - val_loss: 0.2927 - val_acc: 0.9210\n",
      "Epoch 11/100\n",
      "60000/60000 [==============================] - 0s - loss: 0.2876 - acc: 0.9220 - val_loss: 0.2873 - val_acc: 0.9204\n",
      "Epoch 12/100\n",
      "60000/60000 [==============================] - 0s - loss: 0.2769 - acc: 0.9248 - val_loss: 0.2807 - val_acc: 0.9243\n",
      "Epoch 13/100\n",
      "60000/60000 [==============================] - 0s - loss: 0.2703 - acc: 0.9257 - val_loss: 0.2694 - val_acc: 0.9243\n",
      "Epoch 14/100\n",
      "60000/60000 [==============================] - 0s - loss: 0.2615 - acc: 0.9278 - val_loss: 0.2637 - val_acc: 0.9266\n",
      "Epoch 15/100\n",
      "60000/60000 [==============================] - 0s - loss: 0.2588 - acc: 0.9291 - val_loss: 0.2711 - val_acc: 0.9250\n",
      "Epoch 16/100\n",
      "60000/60000 [==============================] - 0s - loss: 0.2508 - acc: 0.9307 - val_loss: 0.2554 - val_acc: 0.9295\n",
      "Epoch 17/100\n",
      "60000/60000 [==============================] - 0s - loss: 0.2448 - acc: 0.9317 - val_loss: 0.2526 - val_acc: 0.9313\n",
      "Epoch 18/100\n",
      "60000/60000 [==============================] - 0s - loss: 0.2399 - acc: 0.9334 - val_loss: 0.2463 - val_acc: 0.9328\n",
      "Epoch 19/100\n",
      "60000/60000 [==============================] - 0s - loss: 0.2341 - acc: 0.9349 - val_loss: 0.2368 - val_acc: 0.9312\n",
      "Epoch 20/100\n",
      "60000/60000 [==============================] - 0s - loss: 0.2304 - acc: 0.9361 - val_loss: 0.2360 - val_acc: 0.9339\n",
      "Epoch 21/100\n",
      "60000/60000 [==============================] - 0s - loss: 0.2266 - acc: 0.9376 - val_loss: 0.2307 - val_acc: 0.9352\n",
      "Epoch 22/100\n",
      "60000/60000 [==============================] - 0s - loss: 0.2230 - acc: 0.9386 - val_loss: 0.2347 - val_acc: 0.9336\n",
      "Epoch 23/100\n",
      "60000/60000 [==============================] - 0s - loss: 0.2218 - acc: 0.9385 - val_loss: 0.2366 - val_acc: 0.9329\n",
      "Epoch 24/100\n",
      "60000/60000 [==============================] - 0s - loss: 0.2190 - acc: 0.9383 - val_loss: 0.2312 - val_acc: 0.9350\n",
      "Epoch 25/100\n",
      "60000/60000 [==============================] - 0s - loss: 0.2158 - acc: 0.9403 - val_loss: 0.2255 - val_acc: 0.9350\n",
      "Epoch 26/100\n",
      "60000/60000 [==============================] - 0s - loss: 0.2148 - acc: 0.9405 - val_loss: 0.2260 - val_acc: 0.9350\n",
      "Epoch 27/100\n",
      "60000/60000 [==============================] - 0s - loss: 0.2143 - acc: 0.9402 - val_loss: 0.2263 - val_acc: 0.9348\n",
      "Epoch 28/100\n",
      "60000/60000 [==============================] - 0s - loss: 0.2135 - acc: 0.9396 - val_loss: 0.2188 - val_acc: 0.9360\n",
      "Epoch 29/100\n",
      "60000/60000 [==============================] - 0s - loss: 0.2069 - acc: 0.9428 - val_loss: 0.2157 - val_acc: 0.9392\n",
      "Epoch 30/100\n",
      "60000/60000 [==============================] - 0s - loss: 0.2071 - acc: 0.9411 - val_loss: 0.2201 - val_acc: 0.9372\n",
      "Epoch 31/100\n",
      "60000/60000 [==============================] - 0s - loss: 0.2008 - acc: 0.9429 - val_loss: 0.2095 - val_acc: 0.9386\n",
      "Epoch 32/100\n",
      "60000/60000 [==============================] - 0s - loss: 0.1994 - acc: 0.9436 - val_loss: 0.2065 - val_acc: 0.9408\n",
      "Epoch 33/100\n",
      "60000/60000 [==============================] - 0s - loss: 0.1934 - acc: 0.9458 - val_loss: 0.2073 - val_acc: 0.9422\n",
      "Epoch 34/100\n",
      "60000/60000 [==============================] - 0s - loss: 0.1966 - acc: 0.9448 - val_loss: 0.2144 - val_acc: 0.9364\n",
      "Epoch 35/100\n",
      "60000/60000 [==============================] - 0s - loss: 0.1937 - acc: 0.9446 - val_loss: 0.2082 - val_acc: 0.9389\n",
      "Epoch 36/100\n",
      "60000/60000 [==============================] - 0s - loss: 0.1943 - acc: 0.9451 - val_loss: 0.2063 - val_acc: 0.9401\n",
      "Epoch 37/100\n",
      "60000/60000 [==============================] - 0s - loss: 0.1928 - acc: 0.9456 - val_loss: 0.2004 - val_acc: 0.9439\n",
      "Epoch 38/100\n",
      "60000/60000 [==============================] - 0s - loss: 0.1841 - acc: 0.9479 - val_loss: 0.2017 - val_acc: 0.9429\n",
      "Epoch 39/100\n",
      "60000/60000 [==============================] - 0s - loss: 0.1856 - acc: 0.9467 - val_loss: 0.2034 - val_acc: 0.9401\n",
      "Epoch 40/100\n",
      "60000/60000 [==============================] - 0s - loss: 0.1872 - acc: 0.9466 - val_loss: 0.2021 - val_acc: 0.9410\n",
      "Epoch 41/100\n",
      "60000/60000 [==============================] - 0s - loss: 0.1828 - acc: 0.9477 - val_loss: 0.1977 - val_acc: 0.9429\n",
      "Epoch 42/100\n",
      "60000/60000 [==============================] - 0s - loss: 0.1800 - acc: 0.9485 - val_loss: 0.1901 - val_acc: 0.9446\n",
      "Epoch 43/100\n",
      "60000/60000 [==============================] - 0s - loss: 0.1788 - acc: 0.9495 - val_loss: 0.1985 - val_acc: 0.9417\n",
      "Epoch 44/100\n",
      "60000/60000 [==============================] - 0s - loss: 0.1782 - acc: 0.9484 - val_loss: 0.1973 - val_acc: 0.9425\n",
      "Epoch 45/100\n",
      "60000/60000 [==============================] - 0s - loss: 0.1755 - acc: 0.9502 - val_loss: 0.1945 - val_acc: 0.9433\n",
      "Epoch 46/100\n",
      "60000/60000 [==============================] - 0s - loss: 0.1771 - acc: 0.9495 - val_loss: 0.1885 - val_acc: 0.9441\n",
      "Epoch 47/100\n",
      "60000/60000 [==============================] - 0s - loss: 0.1735 - acc: 0.9504 - val_loss: 0.1948 - val_acc: 0.9427\n",
      "Epoch 48/100\n",
      "60000/60000 [==============================] - 0s - loss: 0.1738 - acc: 0.9503 - val_loss: 0.1889 - val_acc: 0.9423\n",
      "Epoch 49/100\n",
      "60000/60000 [==============================] - 0s - loss: 0.1716 - acc: 0.9502 - val_loss: 0.1867 - val_acc: 0.9461\n",
      "Epoch 50/100\n",
      "60000/60000 [==============================] - 0s - loss: 0.1706 - acc: 0.9511 - val_loss: 0.1824 - val_acc: 0.9470\n",
      "Epoch 51/100\n",
      "60000/60000 [==============================] - 0s - loss: 0.1691 - acc: 0.9513 - val_loss: 0.1878 - val_acc: 0.9446\n",
      "Epoch 52/100\n",
      "60000/60000 [==============================] - 0s - loss: 0.1660 - acc: 0.9519 - val_loss: 0.1897 - val_acc: 0.9417\n",
      "Epoch 53/100\n",
      "60000/60000 [==============================] - 0s - loss: 0.1697 - acc: 0.9504 - val_loss: 0.1884 - val_acc: 0.9442\n",
      "Epoch 54/100\n",
      "60000/60000 [==============================] - 0s - loss: 0.1696 - acc: 0.9506 - val_loss: 0.1935 - val_acc: 0.9432\n",
      "Epoch 55/100\n",
      "60000/60000 [==============================] - 0s - loss: 0.1695 - acc: 0.9518 - val_loss: 0.1861 - val_acc: 0.9453\n",
      "Epoch 56/100\n",
      "60000/60000 [==============================] - 0s - loss: 0.1665 - acc: 0.9524 - val_loss: 0.1862 - val_acc: 0.9437\n",
      "Epoch 57/100\n",
      "60000/60000 [==============================] - 0s - loss: 0.1669 - acc: 0.9520 - val_loss: 0.1828 - val_acc: 0.9481\n",
      "Epoch 58/100\n",
      "60000/60000 [==============================] - 0s - loss: 0.1627 - acc: 0.9531 - val_loss: 0.1902 - val_acc: 0.9435\n",
      "Epoch 59/100\n",
      "60000/60000 [==============================] - 0s - loss: 0.1605 - acc: 0.9541 - val_loss: 0.1815 - val_acc: 0.9447\n",
      "Epoch 60/100\n",
      "60000/60000 [==============================] - 0s - loss: 0.1589 - acc: 0.9546 - val_loss: 0.1830 - val_acc: 0.9438\n",
      "Epoch 61/100\n",
      "60000/60000 [==============================] - 0s - loss: 0.1599 - acc: 0.9536 - val_loss: 0.1824 - val_acc: 0.9470\n",
      "Epoch 62/100\n",
      "60000/60000 [==============================] - 0s - loss: 0.1621 - acc: 0.9533 - val_loss: 0.1795 - val_acc: 0.9473\n",
      "Epoch 63/100\n",
      "60000/60000 [==============================] - 0s - loss: 0.1566 - acc: 0.9546 - val_loss: 0.1799 - val_acc: 0.9474\n",
      "Epoch 64/100\n",
      "60000/60000 [==============================] - 0s - loss: 0.1571 - acc: 0.9541 - val_loss: 0.1805 - val_acc: 0.9466\n",
      "Epoch 65/100\n",
      "60000/60000 [==============================] - 0s - loss: 0.1558 - acc: 0.9551 - val_loss: 0.1783 - val_acc: 0.9484\n",
      "Epoch 66/100\n",
      "60000/60000 [==============================] - 0s - loss: 0.1543 - acc: 0.9553 - val_loss: 0.1794 - val_acc: 0.9452\n",
      "Epoch 67/100\n",
      "60000/60000 [==============================] - 0s - loss: 0.1578 - acc: 0.9544 - val_loss: 0.1775 - val_acc: 0.9462\n",
      "Epoch 68/100\n",
      "60000/60000 [==============================] - 0s - loss: 0.1527 - acc: 0.9551 - val_loss: 0.1724 - val_acc: 0.9497\n",
      "Epoch 69/100\n",
      "60000/60000 [==============================] - 0s - loss: 0.1521 - acc: 0.9560 - val_loss: 0.1764 - val_acc: 0.9469\n",
      "Epoch 70/100\n",
      "60000/60000 [==============================] - 0s - loss: 0.1487 - acc: 0.9565 - val_loss: 0.1802 - val_acc: 0.9487\n",
      "Epoch 71/100\n",
      "60000/60000 [==============================] - 0s - loss: 0.1510 - acc: 0.9559 - val_loss: 0.1769 - val_acc: 0.9482\n",
      "Epoch 72/100\n",
      "60000/60000 [==============================] - 0s - loss: 0.1517 - acc: 0.9555 - val_loss: 0.1726 - val_acc: 0.9467\n",
      "Epoch 73/100\n",
      "60000/60000 [==============================] - 0s - loss: 0.1486 - acc: 0.9568 - val_loss: 0.1713 - val_acc: 0.9503\n",
      "Epoch 74/100\n",
      "60000/60000 [==============================] - 0s - loss: 0.1444 - acc: 0.9584 - val_loss: 0.1714 - val_acc: 0.9488\n",
      "Epoch 75/100\n",
      "60000/60000 [==============================] - 0s - loss: 0.1474 - acc: 0.9571 - val_loss: 0.1813 - val_acc: 0.9483\n",
      "Epoch 76/100\n",
      "60000/60000 [==============================] - 0s - loss: 0.1480 - acc: 0.9575 - val_loss: 0.1707 - val_acc: 0.9497\n",
      "Epoch 77/100\n",
      "60000/60000 [==============================] - 0s - loss: 0.1451 - acc: 0.9584 - val_loss: 0.1655 - val_acc: 0.9521\n",
      "Epoch 78/100\n",
      "60000/60000 [==============================] - 0s - loss: 0.1444 - acc: 0.9583 - val_loss: 0.1736 - val_acc: 0.9501\n",
      "Epoch 79/100\n",
      "60000/60000 [==============================] - 0s - loss: 0.1439 - acc: 0.9583 - val_loss: 0.1698 - val_acc: 0.9502\n",
      "Epoch 80/100\n",
      "60000/60000 [==============================] - 0s - loss: 0.1400 - acc: 0.9587 - val_loss: 0.1637 - val_acc: 0.9507\n",
      "Epoch 81/100\n",
      "60000/60000 [==============================] - 0s - loss: 0.1438 - acc: 0.9581 - val_loss: 0.1668 - val_acc: 0.9521\n",
      "Epoch 82/100\n",
      "60000/60000 [==============================] - 0s - loss: 0.1422 - acc: 0.9588 - val_loss: 0.1686 - val_acc: 0.9495\n",
      "Epoch 83/100\n",
      "60000/60000 [==============================] - 0s - loss: 0.1411 - acc: 0.9586 - val_loss: 0.1664 - val_acc: 0.9509\n",
      "Epoch 84/100\n",
      "60000/60000 [==============================] - 0s - loss: 0.1399 - acc: 0.9589 - val_loss: 0.1680 - val_acc: 0.9508\n",
      "Epoch 85/100\n",
      "60000/60000 [==============================] - 0s - loss: 0.1430 - acc: 0.9580 - val_loss: 0.1774 - val_acc: 0.9471\n",
      "Epoch 86/100\n",
      "60000/60000 [==============================] - 0s - loss: 0.1429 - acc: 0.9575 - val_loss: 0.1699 - val_acc: 0.9492\n",
      "Epoch 87/100\n",
      "60000/60000 [==============================] - 0s - loss: 0.1389 - acc: 0.9593 - val_loss: 0.1664 - val_acc: 0.9512\n",
      "Epoch 88/100\n",
      "60000/60000 [==============================] - 0s - loss: 0.1354 - acc: 0.9607 - val_loss: 0.1667 - val_acc: 0.9522\n",
      "Epoch 89/100\n",
      "60000/60000 [==============================] - 0s - loss: 0.1362 - acc: 0.9604 - val_loss: 0.1664 - val_acc: 0.9494\n",
      "Epoch 90/100\n",
      "60000/60000 [==============================] - 0s - loss: 0.1353 - acc: 0.9606 - val_loss: 0.1675 - val_acc: 0.9501\n",
      "Epoch 91/100\n",
      "60000/60000 [==============================] - 0s - loss: 0.1332 - acc: 0.9608 - val_loss: 0.1621 - val_acc: 0.9515\n",
      "Epoch 92/100\n",
      "60000/60000 [==============================] - 0s - loss: 0.1367 - acc: 0.9594 - val_loss: 0.1625 - val_acc: 0.9508\n",
      "Epoch 93/100\n",
      "60000/60000 [==============================] - 0s - loss: 0.1372 - acc: 0.9605 - val_loss: 0.1624 - val_acc: 0.9500\n",
      "Epoch 94/100\n",
      "60000/60000 [==============================] - 0s - loss: 0.1315 - acc: 0.9619 - val_loss: 0.1638 - val_acc: 0.9507\n",
      "Epoch 95/100\n",
      "60000/60000 [==============================] - 0s - loss: 0.1305 - acc: 0.9616 - val_loss: 0.1666 - val_acc: 0.9500\n",
      "Epoch 96/100\n",
      "60000/60000 [==============================] - 0s - loss: 0.1322 - acc: 0.9611 - val_loss: 0.1661 - val_acc: 0.9509\n",
      "Epoch 97/100\n",
      "60000/60000 [==============================] - 0s - loss: 0.1316 - acc: 0.9619 - val_loss: 0.1623 - val_acc: 0.9511\n",
      "Epoch 98/100\n",
      "60000/60000 [==============================] - 0s - loss: 0.1318 - acc: 0.9607 - val_loss: 0.1627 - val_acc: 0.9524\n",
      "Epoch 99/100\n",
      "60000/60000 [==============================] - 0s - loss: 0.1297 - acc: 0.9627 - val_loss: 0.1628 - val_acc: 0.9515\n",
      "Epoch 100/100\n",
      "60000/60000 [==============================] - 0s - loss: 0.1296 - acc: 0.9619 - val_loss: 0.1603 - val_acc: 0.9529\n"
     ]
    },
    {
     "data": {
      "text/plain": [
       "<keras.callbacks.History at 0x10da22320>"
      ]
     },
     "execution_count": 10,
     "metadata": {},
     "output_type": "execute_result"
    }
   ],
   "source": [
    "model.fit(\n",
    "    X_train,\n",
    "    y_train,\n",
    "    batch_size=100,\n",
    "    validation_data=(X_test, y_test),\n",
    "    epochs=100\n",
    ")"
   ]
  },
  {
   "cell_type": "code",
   "execution_count": 11,
   "metadata": {
    "collapsed": true
   },
   "outputs": [],
   "source": [
    "import random\n",
    "import numpy as np\n",
    "\n",
    "def predict(sample):\n",
    "    real = np.argmax(y_test[sample])\n",
    "    predicted = np.argmax(model.predict(X_test[sample:sample+1, :]))\n",
    "    print(\"Sample: {}, Real: {}, Predicted: {}\".format(sample, real, predicted))\n",
    "    plt.imshow(X_test[sample], cmap='Greys', interpolation='nearest')\n",
    "    plt.show()\n",
    "    \n",
    "def random_predict():\n",
    "    return predict(random.randint(0, len(y_test)))"
   ]
  },
  {
   "cell_type": "code",
   "execution_count": 13,
   "metadata": {
    "collapsed": false
   },
   "outputs": [
    {
     "name": "stdout",
     "output_type": "stream",
     "text": [
      "Sample: 2395, Real: 8, Predicted: 8\n"
     ]
    },
    {
     "data": {
      "image/png": "[encoded data removed]",
      "text/plain": [
       "<matplotlib.figure.Figure at 0x10daef128>"
      ]
     },
     "metadata": {},
     "output_type": "display_data"
    }
   ],
   "source": [
    "random_predict()"
   ]
  },
  {
   "cell_type": "code",
   "execution_count": 14,
   "metadata": {
    "collapsed": true
   },
   "outputs": [],
   "source": [
    "def problem_predicted():\n",
    "    problems = []\n",
    "    for sample in range(len(y_test)):\n",
    "        real = np.argmax(y_test[sample])\n",
    "        predicted = np.argmax(model.predict(X_test[sample:sample+1, :]))\n",
    "        if real != predicted:\n",
    "            problems.append(sample)\n",
    "        \n",
    "    return problems\n",
    "        "
   ]
  },
  {
   "cell_type": "code",
   "execution_count": 15,
   "metadata": {
    "collapsed": true
   },
   "outputs": [],
   "source": [
    "problems = problem_predicted()"
   ]
  },
  {
   "cell_type": "code",
   "execution_count": 16,
   "metadata": {
    "collapsed": false
   },
   "outputs": [
    {
     "data": {
      "text/plain": [
       "471"
      ]
     },
     "execution_count": 16,
     "metadata": {},
     "output_type": "execute_result"
    }
   ],
   "source": [
    "len(problems)"
   ]
  },
  {
   "cell_type": "code",
   "execution_count": 18,
   "metadata": {
    "collapsed": false
   },
   "outputs": [
    {
     "name": "stdout",
     "output_type": "stream",
     "text": [
      "Sample: 924, Real: 2, Predicted: 7\n"
     ]
    },
    {
     "data": {
      "image/png": "[encoded data removed]",
      "text/plain": [
       "<matplotlib.figure.Figure at 0x10ef05898>"
      ]
     },
     "metadata": {},
     "output_type": "display_data"
    }
   ],
   "source": [
    "predict(problems[42])"
   ]
  },
  {
   "cell_type": "code",
   "execution_count": null,
   "metadata": {
    "collapsed": true
   },
   "outputs": [],
   "source": []
  }
 ],
 "metadata": {
  "anaconda-cloud": {},
  "kernelspec": {
   "display_name": "Python [conda root]",
   "language": "python",
   "name": "conda-root-py"
  },
  "language_info": {
   "codemirror_mode": {
    "name": "ipython",
    "version": 3
   },
   "file_extension": ".py",
   "mimetype": "text/x-python",
   "name": "python",
   "nbconvert_exporter": "python",
   "pygments_lexer": "ipython3",
   "version": "3.5.2"
  }
 },
 "nbformat": 4,
 "nbformat_minor": 1
}
